{
  "cells": [
    {
      "cell_type": "markdown",
      "metadata": {
        "id": "XMJG1KqlKU63"
      },
      "source": [
        "# Assignment 1: Python programming\n"
      ]
    },
    {
      "cell_type": "markdown",
      "metadata": {
        "id": "DXV7WZ9XhuiN"
      },
      "source": []
    },
    {
      "cell_type": "markdown",
      "metadata": {
        "id": "Ibx_B64QKdIs"
      },
      "source": [
        "### Write a python program to evaluate the following mathematical expressions:\n",
        "#### 1. $\\frac{2^3}{2 + 3}$\n",
        "#### 2. $\\sqrt{5} \\times \\sqrt[3]{3}$\n",
        "#### 3. $\\frac{1}{1 + \\frac{1}{1 + \\frac{1}{2}}}$\n",
        "#### 4. $(2^{3})^{2}$"
      ]
    },
    {
      "cell_type": "markdown",
      "metadata": {
        "id": "2tIPfKStYOCC"
      },
      "source": [
        "## Write python program using your own function to implement the following mathematical functions:\n",
        "### 1. Function that takes a number $x$ as an input, and returns a list with three elements $[x, \\, x^2, \\, -x^3]$.\n",
        "<font color='gray'>Your program must take a numerical input $x$ from the user, and evaluate the function for this value of $x$, and print the values of $x$ and $f(x)$.</font>\n",
        "\n",
        "### 2. Function that takes in two string $s1$ and $s2$ and returns a string of the following form #$s1$-$s2$#, i.e. it concatenates the two strings with a '-', and flanks the resulting string by #.\n",
        "<font color='gray'>Your program must get the two strings from the user, and then print the output in the aforementioned format.</font>\n"
      ]
    },
    {
      "cell_type": "markdown",
      "metadata": {},
      "source": []
    }
  ],
  "metadata": {
    "colab": {
      "private_outputs": true,
      "provenance": []
    },
    "kernelspec": {
      "display_name": "Python 3",
      "name": "python3"
    }
  },
  "nbformat": 4,
  "nbformat_minor": 0
}
