{
  "cells": [
    {
      "cell_type": "markdown",
      "metadata": {
        "id": "gT0sJaUZhxKZ"
      },
      "source": [
        "---\n",
        "## IN-CLASS PROBLEMS:\n",
        "# Write a function\n",
        "1. Write a function to extract the fractional part of a given floating point number. Example: f(3.143) => 0.143 ; f(-2.543) => -0.543."
      ]
    },
    {
      "cell_type": "code",
      "execution_count": null,
      "metadata": {},
      "outputs": [],
      "source": []
    },
    {
      "cell_type": "markdown",
      "metadata": {
        "id": "vPls4g7dtH3A"
      },
      "source": [
        "2. To check if a given integer is divisible by  2, 3, 5, and 7.\n",
        "\n",
        "\n",
        "\n",
        "\n"
      ]
    },
    {
      "cell_type": "code",
      "execution_count": null,
      "metadata": {},
      "outputs": [],
      "source": []
    },
    {
      "cell_type": "markdown",
      "metadata": {},
      "source": [
        "3. To check if two floating point numbers are approximately equal., i.e two numbers are equal upto n-digits after the decimal point. Example:\n",
        "f(3.143,3.1431,3) => True ; f(3.143,3.1431,4) => False."
      ]
    },
    {
      "cell_type": "code",
      "execution_count": null,
      "metadata": {},
      "outputs": [],
      "source": []
    },
    {
      "cell_type": "markdown",
      "metadata": {},
      "source": [
        "4. To reverse the order of the given 6-digit integer. Example: f(123456) => 654321 ; f(123) => 321000."
      ]
    },
    {
      "cell_type": "code",
      "execution_count": null,
      "metadata": {},
      "outputs": [],
      "source": []
    },
    {
      "cell_type": "markdown",
      "metadata": {},
      "source": [
        "5. To return the sum of the individual digits  of the given 6-digit number Example: f(23450) => 14."
      ]
    },
    {
      "cell_type": "code",
      "execution_count": null,
      "metadata": {},
      "outputs": [],
      "source": []
    }
  ],
  "metadata": {
    "colab": {
      "private_outputs": true,
      "provenance": []
    },
    "kernelspec": {
      "display_name": "Python 3",
      "name": "python3"
    }
  },
  "nbformat": 4,
  "nbformat_minor": 0
}
